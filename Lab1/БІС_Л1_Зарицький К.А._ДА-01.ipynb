{
 "cells": [
  {
   "cell_type": "code",
   "execution_count": 6,
   "metadata": {},
   "outputs": [],
   "source": [
    "import math"
   ]
  },
  {
   "cell_type": "markdown",
   "metadata": {},
   "source": [
    "# Безпека Інформаційних систем\n",
    "# Лабораторна робота №1\n",
    "# \"Арифметика великих чисел\"\n",
    "**Виконав:** Зарицький Кирило Андрійович (ДА-01)"
   ]
  },
  {
   "cell_type": "markdown",
   "metadata": {},
   "source": [
    "## Мета роботи\n",
    "\n",
    "Розробка програми арифметики великих чисел для виконання обчислювальних операцій в алгоритмах шифрування RSA та ElGamal та в інших схемах\n",
    "та алгоритмах."
   ]
  },
  {
   "cell_type": "markdown",
   "metadata": {},
   "source": [
    "## Завдання\n",
    "\n",
    "Програма повинна реалізувати арифметику (складання, множення, зведення в\n",
    "квадрат, визначення залишків за модулем) з довгими вхідними числами до кількох десятків\n",
    "десяткових розрядів (до 50 десяткових розрядів)."
   ]
  },
  {
   "cell_type": "markdown",
   "metadata": {},
   "source": [
    "## Хід роботи"
   ]
  },
  {
   "cell_type": "markdown",
   "metadata": {},
   "source": [
    "### Аналіз завдання"
   ]
  },
  {
   "cell_type": "markdown",
   "metadata": {},
   "source": [
    "Для виконання подібних операцій потрібен спеціальний тип даних для їх збереження. Тип 'int' в Python3 підтримує великі числа, що можна спостерігати з коду нижче. "
   ]
  },
  {
   "cell_type": "code",
   "execution_count": 11,
   "metadata": {},
   "outputs": [
    {
     "name": "stdout",
     "output_type": "stream",
     "text": [
      "test_var 100000000000000000000000000000000000000000000000000\n",
      "\n",
      "log_50 (test_var) = 50.0\n",
      "\n",
      "test var has 51 digits\n",
      "\n",
      "99999999999999999999999999999999999999999999999999\n",
      "99999999999999999999999999999999999999999999999998\n",
      "99999999999999999999999999999999999999999999999997\n",
      "99999999999999999999999999999999999999999999999996\n",
      "99999999999999999999999999999999999999999999999995\n",
      "99999999999999999999999999999999999999999999999994\n",
      "99999999999999999999999999999999999999999999999993\n",
      "99999999999999999999999999999999999999999999999992\n",
      "99999999999999999999999999999999999999999999999991\n",
      "99999999999999999999999999999999999999999999999990\n"
     ]
    }
   ],
   "source": [
    "test_var = 10 ** 50\n",
    "print(\"test_var\",test_var)\n",
    "print()\n",
    "print(\"log_50 (test_var) =\",math.log(test_var,10))\n",
    "print()\n",
    "print(\"test var has\",len(str(test_var)),\"digits\")\n",
    "print()\n",
    "for i in range(10):\n",
    "    test_var -= 1\n",
    "    print(test_var)\n"
   ]
  },
  {
   "cell_type": "markdown",
   "metadata": {},
   "source": [
    "Отже розробка спеціальних типів не потрібна, і лабораторна робота зводиться до створення інтерфейсу для їх роботи"
   ]
  },
  {
   "cell_type": "markdown",
   "metadata": {},
   "source": [
    "### Лістинг програми"
   ]
  },
  {
   "cell_type": "markdown",
   "metadata": {},
   "source": [
    "#### Ядро програми (Python):"
   ]
  },
  {
   "cell_type": "code",
   "execution_count": 20,
   "metadata": {},
   "outputs": [
    {
     "name": "stdout",
     "output_type": "stream",
     "text": [
      "  1. import sys\n",
      "  2. \n",
      "  3. OPERATIONS = {\n",
      "  4.     \"+\":lambda a,b: a+b,\n",
      "  5.     \"-\":lambda a,b: a-b,\n",
      "  6.     \"*\":lambda a,b: a*b,\n",
      "  7.     \"/\":lambda a,b: a/b,\n",
      "  8.     \"%\":lambda a,b: a%b,\n",
      "  9.     \"^\":lambda a,b: a**b,\n",
      " 10. }\n",
      " 11. \n",
      " 12. if len(sys.argv) != 4:\n",
      " 13.     sys.stderr.write(\"Incorrect ammount of arguments supplied!\\n\")\n",
      " 14.     sys.exit(1)\n",
      " 15. \n",
      " 16. A = int(sys.argv[1])\n",
      " 17. OP = str(sys.argv[2])\n",
      " 18. B = int(sys.argv[3])\n",
      " 19.     \n",
      " 20. if not(OP in OPERATIONS.keys()):\n",
      " 21.     sys.stderr.write(\"Operation {} is not supported!\\n\".format(OP))\n",
      " 22.     sys.exit(2)\n",
      " 23. \n",
      " 24. print(OPERATIONS[OP](A,B))"
     ]
    }
   ],
   "source": [
    "with open(\"calc.py\") as file:\n",
    "    i = 1\n",
    "    line = file.readline()\n",
    "    while len(line):\n",
    "        print(\"{:>3}\".format(i),\". \",line, sep=\"\", end=\"\")\n",
    "        i += 1\n",
    "        line = file.readline()"
   ]
  },
  {
   "cell_type": "markdown",
   "metadata": {},
   "source": [
    "#### Скрипт-обгортка (Shell Script):"
   ]
  },
  {
   "cell_type": "code",
   "execution_count": 1,
   "metadata": {},
   "outputs": [
    {
     "name": "stdout",
     "output_type": "stream",
     "text": [
      "  1. #!/bin/sh\n",
      "  2. python3 calc.py $@"
     ]
    }
   ],
   "source": [
    "with open(\"calc\") as file:\n",
    "    i = 1\n",
    "    line = file.readline()\n",
    "    while len(line):\n",
    "        print(\"{:>3}\".format(i),\". \",line, sep=\"\", end=\"\")\n",
    "        i += 1\n",
    "        line = file.readline()"
   ]
  },
  {
   "cell_type": "markdown",
   "metadata": {},
   "source": [
    "#### Скрипт для виконання з двома випадковими числами (Shell Script):"
   ]
  },
  {
   "cell_type": "code",
   "execution_count": 2,
   "metadata": {},
   "outputs": [
    {
     "name": "stdout",
     "output_type": "stream",
     "text": [
      "  1. #!/bin/sh\n",
      "  2. \n",
      "  3. A=`head -c 4096 /dev/random | tr -cd '[:digit:]' | cut -c -50`\n",
      "  4. B=`head -c 4096 /dev/random | tr -cd '[:digit:]' | cut -c -50`\n",
      "  5. \n",
      "  6. echo A = $A\n",
      "  7. echo B = $B\n",
      "  8. \n",
      "  9. python3 calc.py $A $1 $B\n"
     ]
    }
   ],
   "source": [
    "with open(\"rcalc\") as file:\n",
    "    i = 1\n",
    "    line = file.readline()\n",
    "    while len(line):\n",
    "        print(\"{:>3}\".format(i),\". \",line, sep=\"\", end=\"\")\n",
    "        i += 1\n",
    "        line = file.readline()"
   ]
  },
  {
   "cell_type": "markdown",
   "metadata": {},
   "source": [
    "## Висновки"
   ]
  },
  {
   "cell_type": "markdown",
   "metadata": {},
   "source": [
    "Було розроблено програму для виконання арифметики великих чисел (50 десятичних розрядів). Програма виконана на мові Python (версія 3).\n",
    "\n",
    "Так як Python3 за замовчуванням підтримує арифметику великих чисел, виконання завдання є тривіальним.\n",
    "\n",
    "Для мов що не підтримують великі числа слід створювати спеціальний тип даних для їх збереження та арифметичні операції над цим типом даних."
   ]
  }
 ],
 "metadata": {
  "kernelspec": {
   "display_name": "Python 3",
   "language": "python",
   "name": "python3"
  },
  "language_info": {
   "codemirror_mode": {
    "name": "ipython",
    "version": 3
   },
   "file_extension": ".py",
   "mimetype": "text/x-python",
   "name": "python",
   "nbconvert_exporter": "python",
   "pygments_lexer": "ipython3",
   "version": "3.11.5"
  },
  "orig_nbformat": 4
 },
 "nbformat": 4,
 "nbformat_minor": 2
}
